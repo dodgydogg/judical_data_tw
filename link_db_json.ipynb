{
 "cells": [
  {
   "cell_type": "markdown",
   "metadata": {},
   "source": [
    "# 把判決全文加到database"
   ]
  },
  {
   "cell_type": "code",
   "execution_count": 18,
   "metadata": {},
   "outputs": [],
   "source": [
    "import os\n",
    "import glob\n",
    "import json\n",
    "import sqlite3\n",
    "import pandas as pd\n",
    "from tqdm.notebook import tqdm\n",
    "\n",
    "tqdm.pandas()"
   ]
  },
  {
   "cell_type": "code",
   "execution_count": 13,
   "metadata": {},
   "outputs": [],
   "source": [
    "con = sqlite3.connect('cases.db')\n",
    "cur = con.cursor()"
   ]
  },
  {
   "cell_type": "code",
   "execution_count": 14,
   "metadata": {},
   "outputs": [],
   "source": [
    "id_list_sql = \"\"\"SELECT c28裁判書ID FROM Cases WHERE c28裁判書ID IS NOT NULL\"\"\"\n",
    "verdict_id_list = cur.execute(id_list_sql).fetchall()"
   ]
  },
  {
   "cell_type": "code",
   "execution_count": null,
   "metadata": {},
   "outputs": [],
   "source": [
    "for verdict_id in tqdm(verdict_id_list):\n",
    "    try:\n",
    "        with open(f'D:/all_verdict_temp/verdict_api/json_files/{verdict_id[0]}.json', 'r') as f:\n",
    "            data = json.load(f)\n",
    "            verdict = (data['JFULLX']['JFULLCONTENT'],)\n",
    "            sql = f\"\"\"UPDATE Cases SET verdict_text = ? WHERE c28裁判書ID = '{verdict_id[0]}'\"\"\"\n",
    "            cur.execute(sql, verdict)\n",
    "            print(f\"Successfully updated verdict text for {verdict_id[0]}\")\n",
    "    except FileNotFoundError:\n",
    "        print(\"The specified JSON file does not exist.\")\n",
    "    except KeyError as e:\n",
    "        print(f\"KeyError: {e} not found in the JSON data.\")\n",
    "    except sqlite3.Error as e:\n",
    "        print(f\"Database error: {e}\")\n",
    "    except Exception as e:\n",
    "        print(f\"An error occurred: {e}\")"
   ]
  },
  {
   "cell_type": "code",
   "execution_count": 24,
   "metadata": {},
   "outputs": [
    {
     "data": {
      "application/vnd.jupyter.widget-view+json": {
       "model_id": "bc0d8eb71ebd4f24926e31637a9c76da",
       "version_major": 2,
       "version_minor": 0
      },
      "text/plain": [
       "  0%|          | 0/1665590 [00:00<?, ?it/s]"
      ]
     },
     "metadata": {},
     "output_type": "display_data"
    }
   ],
   "source": [
    "\n",
    "# Collect success and error messages\n",
    "success_updates = []\n",
    "errors = []\n",
    "\n",
    "# Prepare SQL statement for batch execution\n",
    "sql = \"UPDATE Cases SET verdict_text = ? WHERE c28裁判書ID = ?\"\n",
    "\n",
    "# Collecting updates\n",
    "updates = []\n",
    "\n",
    "for verdict_id in tqdm(verdict_id_list):\n",
    "    try:\n",
    "        json_file_path = f'D:/all_verdict_temp/verdict_api/json_files/{verdict_id[0]}.json'\n",
    "        if os.path.exists(json_file_path):\n",
    "            with open(json_file_path, 'r') as f:\n",
    "                data = json.load(f)\n",
    "                verdict = data['JFULLX']['JFULLCONTENT']\n",
    "                updates.append((verdict, verdict_id[0]))\n",
    "                success_updates.append(verdict_id[0])\n",
    "        else:\n",
    "            errors.append(f\"The specified JSON file does not exist for verdict_id {verdict_id[0]}.\")\n",
    "    except KeyError as e:\n",
    "        errors.append(f\"KeyError: {e} not found in the JSON data for verdict_id {verdict_id[0]}.\")\n",
    "    except sqlite3.Error as e:\n",
    "        errors.append(f\"Database error: {e} for verdict_id {verdict_id[0]}.\")\n",
    "    except Exception as e:\n",
    "        errors.append(f\"An error occurred: {e} for verdict_id {verdict_id[0]}.\")\n",
    "\n",
    "# Execute batch update\n",
    "try:\n",
    "    cur.executemany(sql, updates)\n",
    "    con.commit()\n",
    "except sqlite3.Error as e:\n",
    "    errors.append(f\"Database error during batch update: {e}.\")\n",
    "\n",
    "# Print summary of operations\n",
    "print(f\"Successfully updated verdict text for {len(success_updates)} verdicts.\")\n",
    "if errors:\n",
    "    print(f\"Errors encountered: {len(errors)}\")\n",
    "    for error in errors:\n",
    "        print(error)\n",
    "\n",
    "# Close the database connection\n",
    "con.close()\n"
   ]
  },
  {
   "cell_type": "code",
   "execution_count": 16,
   "metadata": {},
   "outputs": [],
   "source": [
    "with open(f'D:/all_verdict_temp/verdict_api/json_files/{verdict_id_list[66699][0]}.json', 'r') as f:\n",
    "        data = json.load(f)"
   ]
  },
  {
   "cell_type": "code",
   "execution_count": 17,
   "metadata": {},
   "outputs": [
    {
     "data": {
      "text/plain": [
       "('臺灣高雄地方法院刑事簡易判決\\u3000\\u3000\\u3000\\u3000 102年度簡字第2430號\\r\\n聲\\u3000請\\u3000人\\u3000臺灣高雄地方法院檢察署檢察官\\r\\n被\\u3000\\u3000\\u3000告\\u3000任德慶\\r\\n上列被告因違反毒品危害防制條例案件，經檢察官聲請以簡易判\\r\\n決處刑（102年度毒偵字第931號），本院判決如下：\\r\\n    主      文\\r\\n任德慶施用第二級毒品，處有期徒刑貳月，如易科罰金，以新臺\\r\\n幣壹仟元折算壹日。\\r\\n    事實及理由\\r\\n一、犯罪事實：\\r\\n    任德慶前因施用毒品案件，經本院裁定送觀察、勒戒後，認\\r\\n    無繼續施用毒品之傾向，於民國99年7 月2 日執行完畢釋放\\r\\n    ，並經臺灣高雄地方法院檢察署檢察官以99年度毒偵字第18\\r\\n    13號為不起訴處分確定。詎其仍不知悔改，於觀察、勒戒執\\r\\n    行完畢釋放後5 年內，竟基於施用第二級毒品甲基安非他命\\r\\n    之犯意，於101 年12月13日7 時50分前某時，在其位於高雄\\r\\n    市○○區○○路○○巷○ 號2 樓之住處，以燒烤方式施用甲基\\r\\n    安非他命1 次。嗣於同日7 時50分，因另案為警拘提，復經\\r\\n    採集尿液送驗後，結果呈安非他命及甲基安非他命陽性反應\\r\\n    ，因而查悉上情。案經高雄市政府警察局刑事警察大隊報告\\r\\n    臺灣高雄地方法院檢察署檢察官偵查後聲請以簡易判決處刑\\r\\n    。\\r\\n二、證據部分：\\r\\n（一）被告任德慶於偵查中之自白。\\r\\n（二）正修科技大學超微量研究科技中心尿液檢驗報告1份。\\r\\n（三）高雄市政府警察局刑警大隊偵三隊七分隊偵辦毒品案尿液\\r\\n      採證代碼對照表冊1 份。\\r\\n三、按違反毒品危害防制條例第10條之罪，經觀察、勒戒後，認\\r\\n    無繼續施用毒品之傾向，應即釋放，並為不起訴處分或不付\\r\\n    審理之裁定；次按觀察、勒戒執行完畢釋放後，5 年內再犯\\r\\n    第10條之罪者，檢察官應依法追訴，民國93年1 月9 日修正\\r\\n    施行之毒品危害防制條例第20條第2 項及同法第23條第2 項\\r\\n    就此分別定有明文。查被告任德慶前因施用毒品案件，經本\\r\\n    院裁定送觀察、勒戒後，因認無繼續施用毒品之傾向，於99\\r\\n    年7 月2 日執行完畢釋放出所，此有臺灣高等法院被告前案\\r\\n    紀錄表1 份在卷可查，是被告經觀察、勒戒執行完畢釋放後\\r\\n    ，5 年內再犯本案毒品危害防制條例第10條之罪，揆諸前開\\r\\n    說明，自應依法追訴處罰。\\r\\n四、核被告所為，係犯毒品危害防制條例第10條第2 項之施用第\\r\\n    二級毒品罪。其施用第二級毒品前持有該毒品之低度行為，\\r\\n    應為其施用之高度行為所吸收，不另論罪。爰審酌毒品除對\\r\\n    施用者個人直接造成身心健康之危害外，也降低了毒癮者在\\r\\n    社會經濟上之生產力，造成家庭功能的失調，成為國家社會\\r\\n    之一大損失，對國家之影響不可謂之不大。而被告前因施用\\r\\n    毒品案件經觀察、勒戒後，猶未思積極戒毒，竟再犯本案施\\r\\n    用第二級毒品犯行，實應非難；又施用毒品雖乃自戕行為，\\r\\n    看似對社會造成之危害尚非直接，惟考量上述之影響，並期\\r\\n    使被告經此教訓，能徹底覺悟，遠離毒品，避免造成其個人\\r\\n    破產、家庭破碎及犯罪入獄之後果，並兼衡其家境小康之經\\r\\n    濟狀況、高職畢業之智識程度等一切情狀，量處如主文所示\\r\\n    之刑及易科罰金之折算標準。\\r\\n五、依刑事訴訟法第449  條第1 項前段、第3 項、第454 條第1\\r\\n    項，毒品危害防制條例第10條第2 項，刑法第11條前段、第\\r\\n    41條第1 項前段，逕以簡易判決處刑如主文。\\r\\n六、如不服本判決，得自收受送達之日起10日內，向本院提起上\\r\\n    訴。\\r\\n中    華    民    國    102     年    6     月    13  日\\r\\n                  高雄簡易庭    法  官  胡慧滿\\r\\n以上正本證明與原本無異。\\r\\n如不服本判決，應於判決送達之日起10日內向本院提出上訴書狀\\r\\n。\\r\\n中    華    民    國    102     年     6    月    13  日\\r\\n                                書記官  吳國榮\\r\\n附錄本判決論罪之法條：\\r\\n毒品危害防制條例第10條第2項\\r\\n施用第二級毒品者，處 3 年以下有期徒刑。\\r\\n',)"
      ]
     },
     "execution_count": 17,
     "metadata": {},
     "output_type": "execute_result"
    }
   ],
   "source": [
    "(data['JFULLX']['JFULLCONTENT'],)"
   ]
  },
  {
   "cell_type": "code",
   "execution_count": 10,
   "metadata": {},
   "outputs": [
    {
     "data": {
      "text/plain": [
       "'LCDM,101,訴,6,20130102,1'"
      ]
     },
     "execution_count": 10,
     "metadata": {},
     "output_type": "execute_result"
    }
   ],
   "source": [
    "verdict_id_list[0][0]"
   ]
  },
  {
   "cell_type": "markdown",
   "metadata": {},
   "source": [
    "# 用query新增太花時間，改用pandas處理"
   ]
  },
  {
   "cell_type": "code",
   "execution_count": 15,
   "metadata": {},
   "outputs": [],
   "source": [
    "# \n",
    "sql_get_cases = \"\"\"SELECT * FROM Cases\"\"\"\n",
    "df = pd.read_sql(sql_get_cases, con)"
   ]
  },
  {
   "cell_type": "code",
   "execution_count": 21,
   "metadata": {},
   "outputs": [],
   "source": [
    "def get_verdict_text(verdict_id):\n",
    "    try:\n",
    "        with open(f'D:/all_verdict_temp/verdict_api/json_files/{verdict_id}.json', 'r') as f:\n",
    "            data = json.load(f)\n",
    "            return data['JFULLX']['JFULLCONTENT']\n",
    "    except FileNotFoundError:\n",
    "        return None\n",
    "    except KeyError as e:\n",
    "        return None\n",
    "    except Exception as e:\n",
    "        return None"
   ]
  },
  {
   "cell_type": "code",
   "execution_count": 22,
   "metadata": {},
   "outputs": [
    {
     "data": {
      "application/vnd.jupyter.widget-view+json": {
       "model_id": "f3bae75712dd4f67a5203b012ceb2f4d",
       "version_major": 2,
       "version_minor": 0
      },
      "text/plain": [
       "  0%|          | 0/1665590 [00:00<?, ?it/s]"
      ]
     },
     "metadata": {},
     "output_type": "display_data"
    }
   ],
   "source": [
    "df['verdict_text'] = df['c28裁判書ID'].progress_apply(get_verdict_text)"
   ]
  },
  {
   "cell_type": "code",
   "execution_count": 23,
   "metadata": {},
   "outputs": [
    {
     "data": {
      "text/plain": [
       "1665590"
      ]
     },
     "execution_count": 23,
     "metadata": {},
     "output_type": "execute_result"
    }
   ],
   "source": [
    "df.to_sql('Cases_verdict', con, if_exists='replace', index=False)"
   ]
  },
  {
   "cell_type": "code",
   "execution_count": 24,
   "metadata": {},
   "outputs": [],
   "source": [
    "con.close()"
   ]
  }
 ],
 "metadata": {
  "kernelspec": {
   "display_name": "llama",
   "language": "python",
   "name": "python3"
  },
  "language_info": {
   "codemirror_mode": {
    "name": "ipython",
    "version": 3
   },
   "file_extension": ".py",
   "mimetype": "text/x-python",
   "name": "python",
   "nbconvert_exporter": "python",
   "pygments_lexer": "ipython3",
   "version": "3.9.19"
  }
 },
 "nbformat": 4,
 "nbformat_minor": 2
}
