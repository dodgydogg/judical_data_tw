{
 "cells": [
  {
   "cell_type": "markdown",
   "metadata": {},
   "source": [
    "# 地方法院刑事訴訟案件資料庫"
   ]
  },
  {
   "cell_type": "code",
   "execution_count": 1,
   "metadata": {},
   "outputs": [],
   "source": [
    "import os\n",
    "import glob\n",
    "import sqlite3\n",
    "import pandas as pd\n",
    "from tqdm.notebook import tqdm\n"
   ]
  },
  {
   "cell_type": "markdown",
   "metadata": {},
   "source": [
    "# SQLite connection"
   ]
  },
  {
   "cell_type": "code",
   "execution_count": 2,
   "metadata": {},
   "outputs": [],
   "source": [
    "con = sqlite3.connect('cases.db')"
   ]
  },
  {
   "cell_type": "code",
   "execution_count": 3,
   "metadata": {},
   "outputs": [],
   "source": [
    "cur = con.cursor()"
   ]
  },
  {
   "cell_type": "code",
   "execution_count": 4,
   "metadata": {},
   "outputs": [],
   "source": [
    "with open('cases_schema.sql') as f:\n",
    "    cur.executescript(f.read())"
   ]
  },
  {
   "cell_type": "markdown",
   "metadata": {},
   "source": [
    "# Load txt files"
   ]
  },
  {
   "cell_type": "code",
   "execution_count": 5,
   "metadata": {},
   "outputs": [],
   "source": [
    "txt_file_list = glob.glob('raw_txt/**/*DM.刑事訴訟.txt', recursive=True)"
   ]
  },
  {
   "cell_type": "code",
   "execution_count": 6,
   "metadata": {},
   "outputs": [],
   "source": [
    "def insert_case(case_info):\n",
    "    # SQL query to insert data into the Cases table\n",
    "    sql = \"\"\"\n",
    "    INSERT INTO Cases (\n",
    "        c1控制碼, c2法院, c3案號_年, c4案號_字別, c5案號_號,\n",
    "        c6案由, c7法官名1, c8法官名2, c9法官名3, c10原審法院,\n",
    "        c11原審案號_年, c12原審案號_字別, c13原審案號_號,\n",
    "        c14全案終結日期_年, c15全案終結日期_月, c16全案終結日期_日,\n",
    "        c17全案終結情形, c18得上訴, c19不得上訴, c20得抗告,\n",
    "        c21不得抗告, c22自訴人是否有律師代理,\n",
    "        c23裁判內容出現_消除對婦女一切形式歧視公約,\n",
    "        c24裁判內容出現_兒童權利公約, c25裁判內容出現_兩人權公約,\n",
    "        c26裁判內容出現_身心障礙者權利公約, c27犯選罷法終結選舉類別,\n",
    "        c28裁判書ID\n",
    "    ) VALUES (?, ?, ?, ?, ?, ?, ?, ?, ?, ?, ?, ?, ?, ?, ?, ?, ?, ?, ?, ?, ?, ?, ?, ?, ?, ?, ?, ?)\n",
    "    \"\"\"\n",
    "    \n",
    "    # Execute the query with the provided case_info list\n",
    "    cur.execute(sql, case_info)"
   ]
  },
  {
   "cell_type": "code",
   "execution_count": 7,
   "metadata": {},
   "outputs": [],
   "source": [
    "def insert_defendant(defendant_info):\n",
    "    sql = \"\"\"\n",
    "    INSERT INTO Defendants (\n",
    "    d1控制碼, d2被告終結日期_年, d3被告終結日期_月, d4被告終結日期_日, \n",
    "    d5辯護及代理, d6保安處分_感化教育, d7保安處分_監護, d8保安處分_禁戒, \n",
    "    d9保安處分_強制工作, d10保安處分_保護管束, d11保安處分_強制治療, d12保安處分_驅逐出境, \n",
    "    d13保安處分_安置輔導, d14保安處分_其他, d15裁判程序, d16協商賠償支付對象_被害人,\n",
    "    d17協商賠償支付對象_公庫, d18協商賠償支付對象_公益團體, d19協商賠償支付對象_地方自治團體,\n",
    "    d20協商賠償支付金額, d21宣告沒收適用法律_刑法第38條第1項, d22宣告沒收適用法律_刑法第38條第2項,\n",
    "    d23宣告沒收適用法律_刑法第38條第3項, d24宣告沒收適用法律_刑法第38_1條第1項,\n",
    "    d25宣告沒收適用法律_刑法第38_1條第2項, d26宣告沒收適用法律_刑法第38_1條第2項第1款,\n",
    "    d27宣告沒收適用法律_刑法第38_1條第2項第2款, d28宣告沒收適用法律_刑法第38_1條第2項第3款,\n",
    "    d29沒收資料_沒收客體, d30沒收資料_沒收金額, d31是否宣告緩刑,\n",
    "    d32宣告緩刑附記應遵收事項_向被害人道歉, d33宣告緩刑附記應遵收事項_立悔過書,\n",
    "    d34宣告緩刑附記應遵收事項_向被害人支付相當數額之財產或非財產上之損害賠償,\n",
    "    d35向被害人支付損害賠償金額, d36宣告緩刑附記應遵收事項_向公庫支付一定之金額,\n",
    "    d37向公庫支付金額, d38宣告緩刑附記應遵收事項_向指定之政府機關構行政法人社區公益機構或團體提供40小時以上240小時以下之義務勞務,\n",
    "    d39宣告緩刑附記應遵收事項_完成戒癮治療精神治療心理輔導或其他適當之處遇措施,\n",
    "    d40宣告緩刑附記應遵收事項_保護被害人安全之必要命令,\n",
    "    d41宣告緩刑附記應遵收事項_預防再犯所為之必要命令,\n",
    "    d42違反家暴法緩刑期間應遵守事項_第38條第2項第1款禁止實施家庭暴力,\n",
    "    d43違反家暴法緩刑期間應遵守事項_第38條第2項第3款強制遷出,\n",
    "    d44反家暴法緩刑期間應遵守事項第38條第2項第2款禁止騷擾等行為,\n",
    "    d45違反家暴法緩刑期間應遵守事項第38條第2項第5款強制戒癮治療,\n",
    "    d46違反家暴法緩刑期間應遵守事項第38條第2項第5款強制精神治療,\n",
    "    d47違反家暴法緩刑期間應遵守事項第38條第2項第5款強制心理輔導,\n",
    "    d48違反家暴法緩刑期間應遵守事項第38條第2項第5款強制其他治療輔導,\n",
    "    d49違反家暴法緩刑期間應遵守事項第38條第2項第6款其他必要保護被害人等措施,\n",
    "    d50違反家暴法緩刑期間應遵守事項第38條第2項第4款強制遠離,\n",
    "    d51違反家暴法緩刑期間應遵守事項第38條第2項第5款強制認知教育輔導,\n",
    "    d52違反家暴法緩刑期間應遵守事項第38條第2項第5款強制親職教育輔導,\n",
    "    d53違反家暴法緩刑期間應遵守事項第38條第2項第5款舊法其他更生保護事項,\n",
    "    d54減刑條例年度1, d55減刑條例年度2, d56減刑條例年度3, d57減刑條例年度4,\n",
    "    d58應執行刑1020401前_主刑, d59應執行刑1020401前_有期徒刑,\n",
    "    d60定應執行刑_有期徒刑得易科, d61定應執行刑_有期徒刑不得易科逾6月,\n",
    "    d62定應執行刑_有期徒刑不得易科6月以下, d63定應執行刑_拘役,\n",
    "    d64定應執行刑_罰金類別, d65定應執行刑_罰金, d66定應執行刑_無期徒刑或死刑,\n",
    "    d67是否為累犯, d68是否有刑法第91條之1第1項審前鑑定,\n",
    "    d69被告終結情形, d70上訴人別1, d71上訴人別2,\n",
    "    c28裁判書ID,\n",
    "    Case_ID\n",
    ") VALUES (?, ?, ?, ?, ?, ?, ?, ?, ?, ?, ?, ?, ?, ?, ?, ?, ?, ?, ?, ?, ?, ?, ?, ?, ?, ?, ?, ?, ?, ?, ?, ?, ?, ?, ?, ?, ?, ?, ?, ?, ?, ?, ?, ?, ?, ?, ?, ?, ?, ?, ?, ?, ?, ?, ?, ?, ?, ?, ?, ?, ?, ?, ?, ?, ?, ?, ?, ?, ?, ?, ?, ?, ?)\n",
    "\"\"\"\n",
    "    cur.execute(sql, defendant_info)"
   ]
  },
  {
   "cell_type": "code",
   "execution_count": 8,
   "metadata": {},
   "outputs": [],
   "source": [
    "def insert_charge(charge_info):\n",
    "    sql=\"\"\"\n",
    "    INSERT INTO charges (\n",
    "    ch1控制碼,\n",
    "    ch2刑事法令,\n",
    "    ch3刑事法令_條,\n",
    "    ch4刑事法令_之條,\n",
    "    ch5刑事法令_條_段,\n",
    "    ch6刑事法令_項,\n",
    "    ch7刑事法令_項_段,\n",
    "    ch8刑事法令_款,\n",
    "    ch9修法年月,\n",
    "    ch10被告罪名裁判結果,\n",
    "    ch11宣告有期徒刑,\n",
    "    ch12拘役日數,\n",
    "    ch13罰金金額,\n",
    "    ch14是否得易科,\n",
    "    ch15是否褫奪公權,\n",
    "    ch16罪犯類型_少年犯,\n",
    "    ch17罪犯類型_幫助犯,\n",
    "    ch18罪犯類型_未遂犯,\n",
    "    ch19罪犯類型_家庭暴力,\n",
    "    Defendant_ID\n",
    "  ) VALUES (?, ?, ?, ?, ?, ?, ?, ?, ?, ?, ?, ?, ?, ?, ?, ?, ?, ?, ?, ?)\n",
    "    \"\"\"\n",
    "    cur.execute(sql, charge_info)"
   ]
  },
  {
   "cell_type": "code",
   "execution_count": 9,
   "metadata": {},
   "outputs": [],
   "source": [
    "def insert_aggravation(aggravation_info):\n",
    "    sql=\"\"\"\n",
    "    INSERT INTO Aggravation (a1控制碼, a2量刑加重, a3, a4, a5, a6, a7, Charge_ID) VALUES (?, ?, ?, ?, ?, ?, ?, ?)\n",
    "    \"\"\"\n",
    "    cur.execute(sql, aggravation_info)"
   ]
  },
  {
   "cell_type": "code",
   "execution_count": 10,
   "metadata": {},
   "outputs": [],
   "source": [
    "def insert_commutation(commutation_info):\n",
    "    sql=\"\"\"\n",
    "    INSERT INTO Commutation (r1控制碼, r2量刑減輕, r3, r4, r5, r6, r7, Charge_ID) VALUES (?, ?, ?, ?, ?, ?, ?, ?)\n",
    "    \"\"\"\n",
    "    cur.execute(sql, commutation_info)"
   ]
  },
  {
   "cell_type": "code",
   "execution_count": 11,
   "metadata": {},
   "outputs": [],
   "source": [
    "def insert_s_aggravation(s_aggravation_info):\n",
    "    sql=\"\"\"\n",
    "    INSERT INTO SpecialAggravation (sa1控制碼, sa2量刑特殊加重, Charge_ID) VALUES (?, ?, ?)\n",
    "    \"\"\"\n",
    "    cur.execute(sql, s_aggravation_info)"
   ]
  },
  {
   "cell_type": "code",
   "execution_count": 12,
   "metadata": {},
   "outputs": [],
   "source": [
    "def insert_s_commutation(s_commutation_info):\n",
    "    sql=\"\"\"\n",
    "    INSERT INTO SpecialCommutation (sr1控制碼, sr2量刑特殊減輕, Charge_ID) VALUES (?, ?, ?)\n",
    "    \"\"\"\n",
    "    cur.execute(sql, s_commutation_info)"
   ]
  },
  {
   "cell_type": "code",
   "execution_count": 13,
   "metadata": {},
   "outputs": [],
   "source": [
    "def insert_tf(tf_info):\n",
    "    sql=\"\"\"\n",
    "    INSERT INTO ThirdPersonForfeiture (\n",
    "    t1控制碼,\n",
    "    t2沒收程序裁判結果,\n",
    "    t3宣告沒收適用法律_刑法第38條第1項_違禁物,\n",
    "    t4宣告沒收適用法律_刑法第38條第3項_犯罪工具產物,\n",
    "    t5宣告沒收適用法律_刑法第38_1條第2項_犯罪所得,\n",
    "    t6宣告沒收適用法律_刑法第38_1條第2項第1款_犯罪所得,\n",
    "    t7宣告沒收適用法律_刑法第38_1條第2項第2款_犯罪所得,\n",
    "    t8宣告沒收適用法律_刑法第38_1條第2項第3款_犯罪所得,\n",
    "    t9沒收資料_沒收客體,\n",
    "    t10沒收資料_沒收金額,\n",
    "    c28裁判書ID,\n",
    "    Case_id) VALUES (?, ?, ?, ?, ?, ?, ?, ?, ?, ?, ?, ?)\n",
    "    \"\"\"\n",
    "    cur.execute(sql, tf_info)"
   ]
  },
  {
   "cell_type": "code",
   "execution_count": 14,
   "metadata": {},
   "outputs": [],
   "source": [
    "def insert_tf_law(tf_law_infro):\n",
    "    sql=\"\"\"\n",
    "    INSERT INTO ThirdPersonForfeitureLaw (\n",
    "    tl1控制碼,\n",
    "\ttl2刑事法令,\n",
    "\ttl3刑事法令_條,\n",
    "\ttl4刑事法令_之條,\n",
    "\ttl5刑事法令_條_段,\n",
    "\ttl6刑事法令_項,\n",
    "\ttl7刑事法令_項_段,\n",
    "\ttl8刑事法令_款,\n",
    "\tTPF_ID) VALUES (?, ?, ?, ?, ?, ?, ?, ?, ?)\n",
    "    \"\"\"\n",
    "    cur.execute(sql, tf_law_infro)"
   ]
  },
  {
   "cell_type": "code",
   "execution_count": 15,
   "metadata": {},
   "outputs": [
    {
     "data": {
      "application/vnd.jupyter.widget-view+json": {
       "model_id": "f66476852d9f41e19993b2c748e677c5",
       "version_major": 2,
       "version_minor": 0
      },
      "text/plain": [
       "  0%|          | 0/2844 [00:00<?, ?it/s]"
      ]
     },
     "metadata": {},
     "output_type": "display_data"
    }
   ],
   "source": [
    "for file in tqdm(txt_file_list): # loop through all txt files\n",
    "    with open(file ,'r', encoding='utf-8') as f:\n",
    "        txt_lines = f.read() # read txt file into string\n",
    "        case_list = txt_lines.split('#') # split string into list of cases\n",
    "        for case in case_list: # loop through all cases\n",
    "            case_lines = case.split('\\n')\n",
    "            for line in case_lines: # loop through all lines in a case\n",
    "                columns = line.split('!')\n",
    "                if columns[0] == '0':\n",
    "                    case_info = columns\n",
    "                    case_info = case_info[:-1]\n",
    "                    verdict_id = case_info[27]\n",
    "                    # cur.execute(\"BEGIN TRANSACTION;\")\n",
    "                    insert_case(case_info)\n",
    "                    case_id = cur.lastrowid\n",
    "                elif columns[0] == '1':\n",
    "                    defendant_info = columns\n",
    "                    defendant_info = defendant_info[:-1]\n",
    "                    defendant_info.append(verdict_id)\n",
    "                    defendant_info.append(case_id)\n",
    "                    insert_defendant(defendant_info)\n",
    "                    defendant_id = cur.lastrowid\n",
    "                elif columns[0] == '1.1':\n",
    "                    charge_info = columns\n",
    "                    charge_info = charge_info[:-1]\n",
    "                    charge_info.append(defendant_id)\n",
    "                    insert_charge(charge_info)\n",
    "                    charge_id = cur.lastrowid\n",
    "                elif columns[0] == '1.1.1':\n",
    "                    aggravation_info = columns\n",
    "                    while len(aggravation_info) < 7:\n",
    "                        aggravation_info.append('NULL')\n",
    "                    aggravation_info.append(charge_id)\n",
    "                    insert_aggravation(aggravation_info)\n",
    "                elif columns[0] == '1.1.2':\n",
    "                    commutation_info = columns\n",
    "                    while len(commutation_info) < 7:\n",
    "                        commutation_info.append('NULL')\n",
    "                    commutation_info.append(charge_id)\n",
    "                    insert_commutation(commutation_info)\n",
    "                elif columns[0] == '1.1.3':\n",
    "                    s_aggravation_info = columns\n",
    "                    s_aggravation_info = s_aggravation_info[:-1]\n",
    "                    s_aggravation_info.append(charge_id)\n",
    "                    insert_s_aggravation(s_aggravation_info)\n",
    "                elif columns[0] == '1.1.4':\n",
    "                    s_commutation_info = columns\n",
    "                    s_commutation_info = s_commutation_info[:-1]\n",
    "                    s_commutation_info.append(charge_id)\n",
    "                    insert_s_commutation(s_commutation_info)\n",
    "                elif columns[0] == '2':\n",
    "                    tf_info = columns\n",
    "                    tf_info = tf_info[:-1]\n",
    "                    tf_info.append(verdict_id)\n",
    "                    tf_info.append(case_id)\n",
    "                    insert_tf(tf_info)\n",
    "                    tf_id = cur.lastrowid\n",
    "                elif columns[0] == '2.1':\n",
    "                    tf_law_info = columns\n",
    "                    tf_law_info = tf_law_info[:-1]\n",
    "                    tf_law_info.append(tf_id)\n",
    "                    insert_tf_law(tf_law_info)\n",
    "        con.commit()"
   ]
  }
 ],
 "metadata": {
  "kernelspec": {
   "display_name": "llama",
   "language": "python",
   "name": "python3"
  },
  "language_info": {
   "codemirror_mode": {
    "name": "ipython",
    "version": 3
   },
   "file_extension": ".py",
   "mimetype": "text/x-python",
   "name": "python",
   "nbconvert_exporter": "python",
   "pygments_lexer": "ipython3",
   "version": "3.9.19"
  }
 },
 "nbformat": 4,
 "nbformat_minor": 2
}
