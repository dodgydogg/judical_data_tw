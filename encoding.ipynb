{
 "cells": [
  {
   "cell_type": "code",
   "execution_count": 2,
   "metadata": {},
   "outputs": [],
   "source": [
    "import os\n",
    "from tqdm.notebook import tqdm\n",
    "import glob"
   ]
  },
  {
   "cell_type": "code",
   "execution_count": 2,
   "metadata": {},
   "outputs": [],
   "source": [
    "txt_file_list = glob.glob('raw_txt/**/*.txt', recursive=True)"
   ]
  },
  {
   "cell_type": "code",
   "execution_count": 3,
   "metadata": {},
   "outputs": [],
   "source": [
    "def convert_to_utf8(file_path):\n",
    "    with open(file_path, 'r', encoding='big5') as file:\n",
    "        content = file.read()\n",
    "    \n",
    "    with open(file_path, 'w', encoding='utf-8') as file:\n",
    "        file.write(content)\n"
   ]
  },
  {
   "cell_type": "code",
   "execution_count": null,
   "metadata": {},
   "outputs": [],
   "source": [
    "def convert_files_to_utf8():\n",
    "    for file in tqdm(txt_file_list):\n",
    "            try:\n",
    "                with open(file, 'r', encoding='utf-8'):\n",
    "                    # File is already in UTF-8 encoding, no need to convert\n",
    "                    continue\n",
    "            except UnicodeDecodeError:\n",
    "                # File is not in UTF-8 encoding, convert it\n",
    "                convert_to_utf8(file)\n",
    "\n",
    "# Convert files to UTF-8 encoding\n",
    "convert_files_to_utf8()"
   ]
  }
 ],
 "metadata": {
  "kernelspec": {
   "display_name": "llama",
   "language": "python",
   "name": "python3"
  },
  "language_info": {
   "codemirror_mode": {
    "name": "ipython",
    "version": 3
   },
   "file_extension": ".py",
   "mimetype": "text/x-python",
   "name": "python",
   "nbconvert_exporter": "python",
   "pygments_lexer": "ipython3",
   "version": "3.9.19"
  }
 },
 "nbformat": 4,
 "nbformat_minor": 2
}
